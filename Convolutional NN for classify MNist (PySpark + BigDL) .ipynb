{
 "cells": [
  {
   "cell_type": "markdown",
   "metadata": {},
   "source": [
    "### Carga de modulos"
   ]
  },
  {
   "cell_type": "code",
   "execution_count": null,
   "metadata": {},
   "outputs": [],
   "source": [
    "from bigdl.nn.layer import *\n",
    "from bigdl.nn.criterion import *\n",
    "from bigdl.optim.optimizer import *\n",
    "from datetime import datetime as dt\n",
    "from matplotlib import pyplot as plt\n",
    "from pyspark import SparkContext\n",
    "import numpy as np"
   ]
  },
  {
   "cell_type": "markdown",
   "metadata": {},
   "source": [
    "### Inicialización del Spark Context"
   ]
  },
  {
   "cell_type": "code",
   "execution_count": null,
   "metadata": {},
   "outputs": [],
   "source": [
    "sc=SparkContext.getOrCreate(conf=create_spark_conf().setMaster(\"local[*]\"))\n",
    "init_engine()"
   ]
  },
  {
   "cell_type": "markdown",
   "metadata": {},
   "source": [
    "### Carga del dataset"
   ]
  },
  {
   "cell_type": "code",
   "execution_count": null,
   "metadata": {},
   "outputs": [],
   "source": [
    "from keras.datasets import mnist\n",
    "\n",
    "(X_train, y_train_lab), (X_test, y_test_lab) = mnist.load_data()\n",
    "X_train = X_train.reshape(60000,28,28,1)\n",
    "X_test = X_test.reshape(10000,28,28,1)\n",
    "\n",
    "rdd_train_images = sc.parallelize(X_train)\n",
    "rdd_train_labels = sc.parallelize(y_train_lab)\n",
    "rdd_test_images = sc.parallelize(X_test)\n",
    "rdd_test_labels = sc.parallelize(y_test_lab)\n",
    "\n",
    "rdd_train = rdd_train_images.zip(rdd_train_labels).map(lambda x: Sample.from_ndarray(features=x[0] / 255,\n",
    "                                                                                     labels=x[1] + 1))\n",
    "rdd_test = rdd_test_images.zip(rdd_test_labels).map(lambda x: Sample.from_ndarray(features=x[0] / 255,\n",
    "                                                                                  labels=x[1] + 1))"
   ]
  },
  {
   "cell_type": "markdown",
   "metadata": {},
   "source": [
    "### Ejemplo de algunas imagenes"
   ]
  },
  {
   "cell_type": "code",
   "execution_count": null,
   "metadata": {},
   "outputs": [],
   "source": [
    "def plot_images_sample(X):\n",
    "    n_images = 9 \n",
    "    seed = np.random.randint(low=1, high=np.iinfo(np.int32).max)\n",
    "    lst_pred = X.takeSample(withReplacement=False, num=9, seed=seed)\n",
    "    fig, axes = plt.subplots(3,3, \n",
    "                         figsize=(5,5),\n",
    "                         sharex=True, sharey=True,\n",
    "                         subplot_kw=dict(aspect='equal'))\n",
    "    \n",
    "    for i, image in enumerate(lst_pred):\n",
    "    \n",
    "        row = i//3 \n",
    "        col = i%3  \n",
    "\n",
    "        ax = axes[row, col]\n",
    "        img_plot = np.reshape(image[0], (28,28))\n",
    "        ax.imshow(img_plot, cmap='gray_r')\n",
    "        ax.set_title('Label: {}'.format(image[1]))\n",
    "        ax.set_xbound([0,28])\n",
    "    \n",
    "    plt.tight_layout()\n",
    "    plt.show()"
   ]
  },
  {
   "cell_type": "code",
   "execution_count": null,
   "metadata": {},
   "outputs": [],
   "source": [
    "rdd_to_plot = rdd_train_images.zip(rdd_train_labels)\n",
    "plot_images_sample(rdd_to_plot)"
   ]
  },
  {
   "cell_type": "markdown",
   "metadata": {},
   "source": [
    "### Definición de modelo (LeNet5) con un cambiós sobre la primera convolución"
   ]
  },
  {
   "cell_type": "markdown",
   "metadata": {},
   "source": [
    "<img src=\"LeNet_Original_Image.jpg\"> "
   ]
  },
  {
   "cell_type": "code",
   "execution_count": null,
   "metadata": {},
   "outputs": [],
   "source": [
    "model = Sequential()\n",
    "model.add(Reshape([1, 28, 28]))\n",
    "model.add(SpatialConvolution(n_input_plane=1, n_output_plane=6, \n",
    "                             kernel_h=5, kernel_w=5,\n",
    "                             stride_w=1, stride_h=1,\n",
    "                             pad_w=-1, pad_h=-1).set_name('conv1'))\n",
    "model.add(ReLU())\n",
    "model.add(SpatialMaxPooling(2, 2, 2, 2).set_name('pool1'))\n",
    "model.add(SpatialConvolution(n_input_plane=6, n_output_plane=16, \n",
    "                             kernel_h=5, kernel_w=5).set_name('conv2'))\n",
    "model.add(SpatialMaxPooling(2, 2, 2, 2).set_name('pool2'))\n",
    "model.add(Reshape([400]))\n",
    "model.add(Linear(400, 120).set_name('fc1'))\n",
    "model.add(ReLU())\n",
    "model.add(Linear(120, 84).set_name('fc1'))\n",
    "model.add(ReLU())\n",
    "model.add(Linear(84, 10).set_name('score'))\n",
    "model.add(SoftMax())"
   ]
  },
  {
   "cell_type": "markdown",
   "metadata": {},
   "source": [
    "### Logs para tensorboard"
   ]
  },
  {
   "cell_type": "code",
   "execution_count": null,
   "metadata": {},
   "outputs": [],
   "source": [
    "all_logs_path = os.path.join(os.getcwd(), 'logs')\n",
    "if not os.path.exists(all_logs_path):\n",
    "    os.mkdir(all_logs_path)\n",
    "\n",
    "now = dt.now()\n",
    "str_now = now.strftime('%Y-%m-%d_%H:%M:%S')\n",
    "app_name='MNist_BigDL_{}'.format(str_now)\n",
    "train_summary = TrainSummary(log_dir=all_logs_path,\n",
    "                                     app_name=app_name)\n",
    "train_summary.set_summary_trigger(\"Parameters\", SeveralIteration(50))\n",
    "val_summary = ValidationSummary(log_dir=all_logs_path,\n",
    "                                        app_name=app_name)"
   ]
  },
  {
   "cell_type": "markdown",
   "metadata": {},
   "source": [
    "### Entrenamiento del modelo"
   ]
  },
  {
   "cell_type": "code",
   "execution_count": null,
   "metadata": {},
   "outputs": [],
   "source": [
    "optimizer = Optimizer(model=model, training_rdd=rdd_train, criterion=CrossEntropyCriterion(),\n",
    "                      optim_method=Adam(learningrate=1e-3, learningrate_decay=0.0, \n",
    "                                        beta1=0.9, beta2=0.999, epsilon=1e-8, bigdl_type=\"float\"),\n",
    "                      end_trigger=MaxEpoch(4),\n",
    "                      batch_size=64)\n",
    "\n",
    "optimizer.set_validation(batch_size=64, val_rdd=rdd_test,\n",
    "                         trigger=EveryEpoch(), val_method=[Top1Accuracy()])\n",
    "\n",
    "optimizer.set_train_summary(train_summary)\n",
    "optimizer.set_val_summary(val_summary)"
   ]
  },
  {
   "cell_type": "code",
   "execution_count": null,
   "metadata": {},
   "outputs": [],
   "source": [
    "start = dt.now()\n",
    "trained_model = optimizer.optimize()\n",
    "print(dt.now() - start)"
   ]
  },
  {
   "cell_type": "markdown",
   "metadata": {},
   "source": [
    "### Evaluación de algunas predicciones"
   ]
  },
  {
   "cell_type": "code",
   "execution_count": null,
   "metadata": {},
   "outputs": [],
   "source": [
    "rdd_pred = trained_model.predict(rdd_test)\n",
    "rdd_pred = rdd_pred.map(lambda x: np.argmax(x))\n",
    "X_test_and_pred = rdd_test_images.zip(rdd_pred)\n",
    "plot_images_sample(X_test_and_pred)"
   ]
  },
  {
   "cell_type": "markdown",
   "metadata": {},
   "source": [
    "### Guardar y cargar modelo"
   ]
  },
  {
   "cell_type": "code",
   "execution_count": null,
   "metadata": {},
   "outputs": [],
   "source": [
    "#Guardar modelo\n",
    "path_saved_models = os.path.join(os.getcwd(), 'saved_models')\n",
    "model_path = os.path.join(path_saved_models, 'MNist_BigDL.bigdl')\n",
    "model.save(model_path, True)\n",
    "\n",
    "#Carga de modelo\n",
    "model_load = Model.load(model_path, model_path)"
   ]
  },
  {
   "cell_type": "markdown",
   "metadata": {},
   "source": [
    "### Predicciones modelo cargado"
   ]
  },
  {
   "cell_type": "code",
   "execution_count": null,
   "metadata": {
    "scrolled": true
   },
   "outputs": [],
   "source": [
    "rdd_pred = model_load.predict(rdd_test)\n",
    "rdd_pred = rdd_pred.map(lambda x: np.argmax(x))\n",
    "X_test_and_pred = rdd_test_images.zip(rdd_pred)\n",
    "plot_images_sample(X_test_and_pred)"
   ]
  },
  {
   "cell_type": "code",
   "execution_count": null,
   "metadata": {},
   "outputs": [],
   "source": []
  }
 ],
 "metadata": {
  "kernelspec": {
   "display_name": "Python 3",
   "language": "python",
   "name": "python3"
  },
  "language_info": {
   "codemirror_mode": {
    "name": "ipython",
    "version": 3
   },
   "file_extension": ".py",
   "mimetype": "text/x-python",
   "name": "python",
   "nbconvert_exporter": "python",
   "pygments_lexer": "ipython3",
   "version": "3.7.3"
  }
 },
 "nbformat": 4,
 "nbformat_minor": 2
}

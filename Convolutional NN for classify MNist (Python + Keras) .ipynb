{
 "cells": [
  {
   "cell_type": "markdown",
   "metadata": {},
   "source": [
    "### Carga de modulos"
   ]
  },
  {
   "cell_type": "code",
   "execution_count": null,
   "metadata": {},
   "outputs": [],
   "source": [
    "from keras.models import Sequential, load_model\n",
    "from keras import layers\n",
    "from keras.utils import to_categorical\n",
    "from keras.datasets import mnist\n",
    "from keras.callbacks import TensorBoard\n",
    "from matplotlib import pyplot as plt\n",
    "from datetime import datetime as dt\n",
    "import numpy as np\n",
    "import os"
   ]
  },
  {
   "cell_type": "markdown",
   "metadata": {},
   "source": [
    "### Carga del dataset"
   ]
  },
  {
   "cell_type": "code",
   "execution_count": null,
   "metadata": {},
   "outputs": [],
   "source": [
    "(X_train, y_train_lab), (X_test, y_test_lab) = mnist.load_data()\n",
    "X_train = X_train / 255\n",
    "X_test = X_test / 255\n",
    "\n",
    "X_train = X_train.reshape(60000,28,28,1)\n",
    "X_test = X_test.reshape(10000,28,28,1)\n",
    "y_train = to_categorical(y_train_lab)\n",
    "y_test = to_categorical(y_test_lab)"
   ]
  },
  {
   "cell_type": "markdown",
   "metadata": {},
   "source": [
    "### Ejemplo de algunas imagenes"
   ]
  },
  {
   "cell_type": "code",
   "execution_count": null,
   "metadata": {},
   "outputs": [],
   "source": [
    "def plot_images_sample(X, y, prepend_text='Original'):\n",
    "    n_images = 9 \n",
    "    index = np.random.choice(np.arange(len(X)), size=n_images, replace = False)\n",
    "    \n",
    "    X_plot = X[index, : ]\n",
    "    y_plot = y[index]\n",
    "    \n",
    "    fig, axes = plt.subplots(3,3, \n",
    "                         figsize=(5,5),\n",
    "                         sharex=True, sharey=True,\n",
    "                         subplot_kw=dict(aspect='equal'))\n",
    "    \n",
    "    for i, image in enumerate(X_plot):\n",
    "    \n",
    "        row = i//3 \n",
    "        col = i%3  \n",
    "\n",
    "        ax = axes[row, col]\n",
    "        img_plot = np.reshape(image, (28,28))\n",
    "        ax.imshow(img_plot, cmap='gray_r')\n",
    "        ax.set_title('{} label: {}'.format(prepend_text, y_plot[i]))\n",
    "        ax.set_xbound([0,28])\n",
    "    \n",
    "    plt.tight_layout()\n",
    "    plt.show()"
   ]
  },
  {
   "cell_type": "code",
   "execution_count": null,
   "metadata": {},
   "outputs": [],
   "source": [
    "plot_images_sample(X_train, y_train_lab)"
   ]
  },
  {
   "cell_type": "markdown",
   "metadata": {},
   "source": [
    "### Definición de modelo (LeNet5) con un cambiós sobre la primera convolución"
   ]
  },
  {
   "cell_type": "markdown",
   "metadata": {},
   "source": [
    "<img src=\"LeNet_Original_Image.jpg\"> "
   ]
  },
  {
   "cell_type": "code",
   "execution_count": null,
   "metadata": {},
   "outputs": [],
   "source": [
    "model = Sequential()\n",
    "model.add(layers.Conv2D(filters=6, kernel_size=(5, 5), activation='relu', \n",
    "                        input_shape=(28,28,1), padding='same'))\n",
    "model.add(layers.AveragePooling2D(pool_size=(2, 2), strides=2))\n",
    "model.add(layers.Conv2D(filters=16, kernel_size=(5, 5), activation='relu'))\n",
    "model.add(layers.AveragePooling2D())\n",
    "model.add(layers.Flatten())\n",
    "model.add(layers.Dense(units=120, activation='relu'))\n",
    "model.add(layers.Dense(units=84, activation='relu'))\n",
    "model.add(layers.Dense(units=10, activation = 'softmax'))"
   ]
  },
  {
   "cell_type": "markdown",
   "metadata": {},
   "source": [
    "### Resumen del modelo"
   ]
  },
  {
   "cell_type": "code",
   "execution_count": null,
   "metadata": {},
   "outputs": [],
   "source": [
    "model.summary()"
   ]
  },
  {
   "cell_type": "markdown",
   "metadata": {},
   "source": [
    "### Logs para tensorboard"
   ]
  },
  {
   "cell_type": "code",
   "execution_count": null,
   "metadata": {},
   "outputs": [],
   "source": [
    "all_logs_path = os.path.join(os.getcwd(), 'logs')\n",
    "if not os.path.exists(all_logs_path):\n",
    "    os.mkdir(all_logs_path)\n",
    "    \n",
    "now = dt.now()\n",
    "str_now = now.strftime('%Y-%m-%d_%H:%M:%S')\n",
    "log_dir = os.path.join(all_logs_path, 'MNist_Keras{}'.format(str_now))\n",
    "tensorboard = TensorBoard(log_dir=log_dir)"
   ]
  },
  {
   "cell_type": "markdown",
   "metadata": {},
   "source": [
    "### Entrenamiento del modelo"
   ]
  },
  {
   "cell_type": "code",
   "execution_count": null,
   "metadata": {},
   "outputs": [],
   "source": [
    "model.compile(optimizer='adam', loss='categorical_crossentropy', \n",
    "              metrics=['accuracy'])\n",
    "\n",
    "start = dt.now()\n",
    "model.fit(X_train, y_train, validation_data=(X_test, y_test), \n",
    "          callbacks=[tensorboard], epochs=4, batch_size=64)\n",
    "print(dt.now() - start)"
   ]
  },
  {
   "cell_type": "markdown",
   "metadata": {},
   "source": [
    "### Evaluación de algunas predicciones"
   ]
  },
  {
   "cell_type": "code",
   "execution_count": null,
   "metadata": {},
   "outputs": [],
   "source": [
    "pred = model.predict(X_test)\n",
    "pred_lab = np.array([np.argmax(x) for x in pred])\n",
    "plot_images_sample(X_test, pred_lab, 'Predicted')"
   ]
  },
  {
   "cell_type": "markdown",
   "metadata": {},
   "source": [
    "### Guardar y cargar modelo"
   ]
  },
  {
   "cell_type": "code",
   "execution_count": null,
   "metadata": {},
   "outputs": [],
   "source": [
    "# Guardar modelo\n",
    "path_saved_models = os.path.join(os.getcwd(), 'saved_models')\n",
    "model.save(os.path.join(path_saved_models, 'MNist_Keras.h5'))\n",
    "\n",
    "# Cargar modelo\n",
    "model_load = load_model(os.path.join(path_saved_models, 'MNist_Keras.h5'))"
   ]
  },
  {
   "cell_type": "code",
   "execution_count": null,
   "metadata": {
    "scrolled": true
   },
   "outputs": [],
   "source": [
    "model_load.summary()"
   ]
  },
  {
   "cell_type": "markdown",
   "metadata": {},
   "source": [
    "### Predicciones modelo cargado"
   ]
  },
  {
   "cell_type": "code",
   "execution_count": null,
   "metadata": {},
   "outputs": [],
   "source": [
    "pred = model_load.predict(X_test)\n",
    "pred_lab = np.array([np.argmax(x) for x in pred])\n",
    "plot_images_sample(X_test, pred_lab, 'Predicted')"
   ]
  }
 ],
 "metadata": {
  "kernelspec": {
   "display_name": "Python 3",
   "language": "python",
   "name": "python3"
  },
  "language_info": {
   "codemirror_mode": {
    "name": "ipython",
    "version": 3
   },
   "file_extension": ".py",
   "mimetype": "text/x-python",
   "name": "python",
   "nbconvert_exporter": "python",
   "pygments_lexer": "ipython3",
   "version": "3.7.3"
  }
 },
 "nbformat": 4,
 "nbformat_minor": 2
}
